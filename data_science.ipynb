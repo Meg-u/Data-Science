{
  "nbformat": 4,
  "nbformat_minor": 0,
  "metadata": {
    "colab": {
      "provenance": [],
      "authorship_tag": "ABX9TyMea4nky4o5KxxVDbimjUhe",
      "include_colab_link": true
    },
    "kernelspec": {
      "name": "python3",
      "display_name": "Python 3"
    },
    "language_info": {
      "name": "python"
    }
  },
  "cells": [
    {
      "cell_type": "markdown",
      "metadata": {
        "id": "view-in-github",
        "colab_type": "text"
      },
      "source": [
        "<a href=\"https://colab.research.google.com/github/Meg-u/Data-Science/blob/main/data_science.ipynb\" target=\"_parent\"><img src=\"https://colab.research.google.com/assets/colab-badge.svg\" alt=\"Open In Colab\"/></a>"
      ]
    },
    {
      "cell_type": "markdown",
      "source": [],
      "metadata": {
        "id": "-yrfsM0c5ety"
      }
    },
    {
      "cell_type": "markdown",
      "source": [
        "1. What is the difference between a list, a dictionary, and a NumPy array? Give one example of each.\n",
        "\n",
        "Answer:\n",
        " List is n ordered, mutable collection that can hold elements of different types.\n",
        " allows duplicates\n",
        "\n",
        " Dictionary:\n",
        "\n",
        "  collection of key-value pairs, where each key is unique.\n",
        "  \n",
        "  Useful when you need to map one set of values to another.\n"
      ],
      "metadata": {
        "id": "YjD-1Fd25kKB"
      }
    },
    {
      "cell_type": "code",
      "source": [
        "#list example\n",
        "my_list = [1, \"hello\", 3.14]\n"
      ],
      "metadata": {
        "id": "4u-D6DcE6Orn"
      },
      "execution_count": 3,
      "outputs": []
    },
    {
      "cell_type": "code",
      "source": [
        "#dictionary example\n",
        "my_dict = {\"name\": \"Alice\", \"age\": 25}"
      ],
      "metadata": {
        "id": "vbt_7eYY6Z0i"
      },
      "execution_count": 1,
      "outputs": []
    },
    {
      "cell_type": "markdown",
      "source": [
        "2.  Given the list [10, 15, 20, 25, 30], write a function that returns the square of only even numbers.\n"
      ],
      "metadata": {
        "id": "e54HUtwL6ynt"
      }
    },
    {
      "cell_type": "code",
      "source": [
        "def square_even_numbers(numbers):\n",
        "  for i in numbers:\n",
        "    if(x%2==0):\n",
        "      return x**2\n",
        "\n",
        ""
      ],
      "metadata": {
        "id": "T22B2vd66_5y"
      },
      "execution_count": 4,
      "outputs": []
    },
    {
      "cell_type": "markdown",
      "source": [
        "3. What does the following code output, and why?\n",
        "\n",
        "Answer:\n",
        "the output is [1,2,3,4] why? since y=x, y refers to the same list as x, means no new list is created so any change to the y is applied also to x.\n"
      ],
      "metadata": {
        "id": "4y8blwqe8ELA"
      }
    },
    {
      "cell_type": "markdown",
      "source": [
        "4.  What does .shape and .describe() tell you about a pandas DataFrame? Show using an example.\n",
        "\n",
        "Answer:\n",
        "\n",
        ".shape() describes the dimensions of the DataFrame.\n",
        "\n",
        ".describe() tells you summary statistics of numeric columns (by default)."
      ],
      "metadata": {
        "id": "uuiz7KEL8qhN"
      }
    },
    {
      "cell_type": "code",
      "source": [
        "#.shape() and .describe() example\n",
        "\n",
        "import pandas as pd\n",
        "\n",
        "data = {\n",
        "    \"Name\": [\"Meg\", \"Mahi\", \"Meklit\", \"Maki\"],\n",
        "    \"Age\": [24, 30, 22, 28],\n",
        "    \"Score\": [88, 75, 90, 85]\n",
        "}\n",
        "\n",
        "df = pd.DataFrame(data)\n",
        "\n",
        "print(\"Shape of DataFrame:\", df.shape)\n",
        "\n",
        "print(\"\\nDescription:\\n\", df.describe())\n"
      ],
      "metadata": {
        "id": "6jkD-xxo9-zC"
      },
      "execution_count": null,
      "outputs": []
    },
    {
      "cell_type": "markdown",
      "source": [
        "5. Load this CSV: airtravel.csv\n",
        "Print the first 5 rows\n",
        "What do you notice about the data?\n",
        "\n",
        "Month\t 1958\t 1959\t  1960\n",
        "  JAN\t   340\t 360\t  417\n",
        "  FEB\t   318\t 342\t  391\n",
        "  MAR\t   362\t 406\t  419\n",
        "  APR\t   348\t 396\t  461\n",
        "  MAY\t   363\t 420\t  472\n",
        "\n",
        "  what did i notice?\n",
        "\n",
        "Upward Trend: For each month from 1958 to 1960, the values increase. For example:\n",
        "\n",
        "JAN: 340 → 360 → 417\n",
        "\n",
        "FEB: 318 → 342 → 391\n",
        "\n",
        "Seasonality: The data shows signs of seasonal variation\n",
        "\n",
        "Consistent Month Ordering: Each row represents the same month across three years, helping compare trends clearly.\n",
        "\n",
        "Gradual Growth: The numbers are gradually increasing year over year.\n"
      ],
      "metadata": {
        "id": "MnG90fGEA8iy"
      }
    },
    {
      "cell_type": "markdown",
      "source": [
        "6. Load the CSV from Q5 and find:\n",
        "  The month with the highest total passengers\n",
        "  The month with the lowest in 1958\n",
        "\n"
      ],
      "metadata": {
        "id": "OhOq4vx0CCJH"
      }
    },
    {
      "cell_type": "code",
      "source": [
        "import pandas as pd\n",
        " #load date into dataframe\n",
        "data = {\n",
        "    \"Month\": [\"JAN\", \"FEB\", \"MAR\", \"APR\", \"MAY\", \"JUN\",\n",
        "              \"JUL\", \"AUG\", \"SEP\", \"OCT\", \"NOV\", \"DEC\"],\n",
        "    \"1958\": [340, 318, 362, 348, 363, 435, 491, 505, 404, 359, 310, 337],\n",
        "    \"1959\": [360, 342, 406, 396, 420, 472, 548, 559, 463, 407, 362, 405],\n",
        "    \"1960\": [417, 391, 419, 461, 472, 535, 622, 606, 508, 461, 390, 432],\n",
        "}\n",
        "\n",
        "df = pd.DataFrame(data)\n",
        "\n",
        "df[\"Total\"] = df[\"1958\"] + df[\"1959\"] + df[\"1960\"]\n",
        "\n",
        "max_total_month = df.loc[df[\"Total\"].idxmax(), \"Month\"]\n",
        "\n",
        "min_1958_month = df.loc[df[\"1958\"].idxmin(), \"Month\"]\n",
        "\n",
        "print(f\"Highest passenger: {max_total_month}\")\n",
        "print(f\"lowest passengers: {min_1958_month}\")\n"
      ],
      "metadata": {
        "colab": {
          "base_uri": "https://localhost:8080/"
        },
        "id": "EunN23TmCvn2",
        "outputId": "bb5b2afb-29dc-4fa9-e5cc-88d0a132be10"
      },
      "execution_count": 16,
      "outputs": [
        {
          "output_type": "stream",
          "name": "stdout",
          "text": [
            "Highest passenger: AUG\n",
            "lowest passengers: NOV\n"
          ]
        }
      ]
    },
    {
      "cell_type": "markdown",
      "source": [
        "7.  What does the .groupby() function do in pandas? Show an example using dummy data.\n",
        "\n",
        "Answer: The .groupby() function in pandas is used to group data based on the values in one or more columns and then apply a function (like sum(), mean(), count(), etc.) to each group."
      ],
      "metadata": {
        "id": "qYscNXf9DPHm"
      }
    },
    {
      "cell_type": "code",
      "source": [
        "#.groupby example\n",
        "import pandas as pd\n",
        "\n",
        "data = {\n",
        "    'Department': ['CSE', 'SW', 'Applied Maths', 'Architecture'],\n",
        "    'Employee': ['Frew', 'Bruk', 'Helen', 'Nahom', ],\n",
        "    'Salary': [5000, 5500, 4000, 4200]\n",
        "}\n",
        "\n",
        "df = pd.DataFrame(data)\n",
        "grouped = df.groupby('Department')['Salary'].mean()\n",
        "\n",
        "print(grouped)\n"
      ],
      "metadata": {
        "colab": {
          "base_uri": "https://localhost:8080/"
        },
        "collapsed": true,
        "id": "gCT8leaJDazX",
        "outputId": "a6d0ae3e-47ad-4f0b-e7f8-2bb43c204151"
      },
      "execution_count": 11,
      "outputs": [
        {
          "output_type": "stream",
          "name": "stdout",
          "text": [
            "Department\n",
            "Applied Maths    4000.0\n",
            "Architecture     4200.0\n",
            "CSE              5000.0\n",
            "SW               5500.0\n",
            "Name: Salary, dtype: float64\n"
          ]
        }
      ]
    },
    {
      "cell_type": "markdown",
      "source": [
        "8. Load the Titanic dataset from seaborn and:\n",
        "\n",
        "  Count how many missing values are in each column  \n",
        "\n",
        "  "
      ],
      "metadata": {
        "id": "XZuWhOuaE0dE"
      }
    },
    {
      "cell_type": "code",
      "source": [
        "import seaborn as sns\n",
        "import pandas as pd\n",
        "\n",
        "# Load\n",
        "titanic = sns.load_dataset('titanic')\n",
        "\n",
        "# Count missing values\n",
        "missing_values = titanic.isnull().sum()\n",
        "\n",
        "print(missing_values)\n"
      ],
      "metadata": {
        "colab": {
          "base_uri": "https://localhost:8080/"
        },
        "collapsed": true,
        "id": "OTNMnUz8FD_w",
        "outputId": "0d9195e1-1a4e-4ed4-ad0b-05391c486d08"
      },
      "execution_count": 12,
      "outputs": [
        {
          "output_type": "stream",
          "name": "stdout",
          "text": [
            "survived         0\n",
            "pclass           0\n",
            "sex              0\n",
            "age            177\n",
            "sibsp            0\n",
            "parch            0\n",
            "fare             0\n",
            "embarked         2\n",
            "class            0\n",
            "who              0\n",
            "adult_male       0\n",
            "deck           688\n",
            "embark_town      2\n",
            "alive            0\n",
            "alone            0\n",
            "dtype: int64\n"
          ]
        }
      ]
    },
    {
      "cell_type": "markdown",
      "source": [
        "9. Use df[\"Age\"].hist() to visualize the age distribution.\n",
        "What shape do you see\n",
        "\n",
        "What might be the reason for the skew?\n",
        "\n"
      ],
      "metadata": {
        "id": "mR7cEaU4FRQv"
      }
    },
    {
      "cell_type": "code",
      "source": [
        "import seaborn as sns\n",
        "import matplotlib.pyplot as plt\n",
        "\n",
        "titanic = sns.load_dataset('titanic')\n",
        "\n",
        "\n",
        "titanic['age'].hist(bins=30, edgecolor='black')\n",
        "\n",
        "\n",
        "plt.xlabel('Age')\n",
        "plt.ylabel('Frequency')\n",
        "plt.title('Age Distribution in Titanic Dataset')\n",
        "\n",
        "plt.show()"
      ],
      "metadata": {
        "colab": {
          "base_uri": "https://localhost:8080/",
          "height": 472
        },
        "id": "93vHzB9qFrYc",
        "outputId": "648cf1fa-c27d-43b4-9de5-b38eb68ed97f"
      },
      "execution_count": 13,
      "outputs": [
        {
          "output_type": "display_data",
          "data": {
            "text/plain": [
              "<Figure size 640x480 with 1 Axes>"
            ],
            "image/png": "[encoded data removed]"
          },
          "metadata": {}
        }
      ]
    },
    {
      "cell_type": "markdown",
      "source": [
        "As we can observe the shape is right-skewed shape\n",
        "\n",
        "The reasons might be\n",
        "Fewer older passengers: In real-world scenarios, older individuals might not have been traveling as much, especially in the early 1900s.\n",
        "\n",
        "Survival Bias: The Titanic disaster disproportionately affected younger passengers (e.g., children and young adults were more likely to survive), which might contribute to a higher count of younger ages.\n",
        "\n",
        "Historical Demographics: The historical period during the Titanic voyage might have seen a larger population of younger people (such as families or workers) traveling compared to older people."
      ],
      "metadata": {
        "id": "xja1LcjNGQKY"
      }
    },
    {
      "cell_type": "markdown",
      "source": [
        "10. What does it mean if a column has a high standard deviation?\n",
        "\n",
        "  Create a list or column that has a low and a high std. dev, and compare.  \n",
        "\n",
        "  Answer:\n",
        "  A high standard deviation in a column means that the values in that column are spread out over a wider range they vary greatly from the mean\n",
        "  \n",
        "  A low standard deviation means the values are closer to the mean, so there's less variation."
      ],
      "metadata": {
        "id": "fVQC9hgqGrnj"
      }
    },
    {
      "cell_type": "code",
      "source": [
        "#\n",
        "import pandas as pd\n",
        "\n",
        "\n",
        "low_std= [50,52,51,49,50,51,50]\n",
        "high_std=[10,90,30,70,50,20,80]\n",
        "\n",
        "df = pd.DataFrame({\n",
        "    'Low_STD': low_std,\n",
        "    'High_STD': high_std\n",
        "})\n",
        "\n",
        "print(\"Standard Deviations:\")\n",
        "print(df.std())"
      ],
      "metadata": {
        "colab": {
          "base_uri": "https://localhost:8080/"
        },
        "id": "Cfin5ucsILyj",
        "outputId": "f4c62aac-fe94-4413-a48b-8cae7f36a8eb"
      },
      "execution_count": 15,
      "outputs": [
        {
          "output_type": "stream",
          "name": "stdout",
          "text": [
            "Standard Deviations:\n",
            "Low_STD      0.975900\n",
            "High_STD    31.091264\n",
            "dtype: float64\n"
          ]
        }
      ]
    },
    {
      "cell_type": "markdown",
      "source": [
        "11.What are some real-world problems where missing data might affect results? Give 2 examples.\n",
        "\n",
        "Answer:\n",
        "\n",
        "1. Healthcare Diagnosis\n",
        "Scenario: A hospital is using patient data (age, symptoms, test results) to train a model that predicts diseases.\n",
        "\n",
        "Missing data problem: If some patients don't have their blood pressure or test results recorded, the model might:\n",
        "\n",
        "Misdiagnose illnesses\n",
        "\n",
        "Underestimate severity\n",
        "\n",
        "Provide biased treatment recommendations\n",
        "Impact: Incomplete records can lead to inaccurate predictions, potentially risking patient's lives.\n",
        "\n",
        "2. Customer Behavior Analysis in E-commerce\n",
        "Scenario: An online store tracks user data (clicks, purchases, time spent on products) to recommend items or optimize ads.\n",
        "\n",
        "Missing data problem: If some users have missing purchase history, product ratings, or browsing data:\n",
        "\n",
        "The recommendation engine may suggest irrelevant products\n",
        "\n",
        "Ad targeting becomes inefficient\n",
        "\n",
        "Business decisions based on incomplete customer behavior might backfire\n",
        "\n",
        "Impact: This can lead to lost revenue, poor user experience, and bad marketing strategies."
      ],
      "metadata": {
        "id": "s-jlo7c_JEsG"
      }
    },
    {
      "cell_type": "markdown",
      "source": [],
      "metadata": {
        "id": "6fDn9cCyITcP"
      }
    }
  ]
}